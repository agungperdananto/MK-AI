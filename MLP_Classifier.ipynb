{
 "cells": [
  {
   "cell_type": "code",
   "execution_count": 4,
   "metadata": {},
   "outputs": [],
   "source": [
    "import numpy as np\n",
    "import matplotlib.pyplot as plt\n",
    "%matplotlib inline \n",
    "import seaborn as sns\n"
   ]
  },
  {
   "cell_type": "code",
   "execution_count": 5,
   "metadata": {},
   "outputs": [],
   "source": [
    "from sklearn.neural_network import MLPClassifier\n",
    "from sklearn.model_selection import train_test_split\n",
    "from sklearn.metrics import accuracy_score\n",
    "from sklearn.metrics import confusion_matrix\n",
    "from sklearn import datasets\n",
    "from mpl_toolkits.mplot3d import Axes3D\n",
    "from sklearn.decomposition import PCA"
   ]
  },
  {
   "cell_type": "code",
   "execution_count": 6,
   "metadata": {},
   "outputs": [],
   "source": [
    "iris = datasets.load_iris()"
   ]
  },
  {
   "cell_type": "code",
   "execution_count": 7,
   "metadata": {},
   "outputs": [
    {
     "data": {
      "text/plain": [
       "['sepal length (cm)',\n",
       " 'sepal width (cm)',\n",
       " 'petal length (cm)',\n",
       " 'petal width (cm)']"
      ]
     },
     "execution_count": 7,
     "metadata": {},
     "output_type": "execute_result"
    }
   ],
   "source": [
    "iris.feature_names"
   ]
  },
  {
   "cell_type": "code",
   "execution_count": 45,
   "metadata": {},
   "outputs": [
    {
     "data": {
      "text/plain": [
       "array(['setosa', 'versicolor', 'virginica'], dtype='<U10')"
      ]
     },
     "execution_count": 45,
     "metadata": {},
     "output_type": "execute_result"
    }
   ],
   "source": [
    "iris.target_names"
   ]
  },
  {
   "cell_type": "code",
   "execution_count": 8,
   "metadata": {},
   "outputs": [
    {
     "data": {
      "text/plain": [
       "array([[5.1, 3.5, 1.4, 0.2],\n",
       "       [4.9, 3. , 1.4, 0.2],\n",
       "       [4.7, 3.2, 1.3, 0.2],\n",
       "       [4.6, 3.1, 1.5, 0.2],\n",
       "       [5. , 3.6, 1.4, 0.2],\n",
       "       [5.4, 3.9, 1.7, 0.4],\n",
       "       [4.6, 3.4, 1.4, 0.3],\n",
       "       [5. , 3.4, 1.5, 0.2],\n",
       "       [4.4, 2.9, 1.4, 0.2],\n",
       "       [4.9, 3.1, 1.5, 0.1],\n",
       "       [5.4, 3.7, 1.5, 0.2],\n",
       "       [4.8, 3.4, 1.6, 0.2],\n",
       "       [4.8, 3. , 1.4, 0.1],\n",
       "       [4.3, 3. , 1.1, 0.1],\n",
       "       [5.8, 4. , 1.2, 0.2],\n",
       "       [5.7, 4.4, 1.5, 0.4],\n",
       "       [5.4, 3.9, 1.3, 0.4],\n",
       "       [5.1, 3.5, 1.4, 0.3],\n",
       "       [5.7, 3.8, 1.7, 0.3],\n",
       "       [5.1, 3.8, 1.5, 0.3],\n",
       "       [5.4, 3.4, 1.7, 0.2],\n",
       "       [5.1, 3.7, 1.5, 0.4],\n",
       "       [4.6, 3.6, 1. , 0.2],\n",
       "       [5.1, 3.3, 1.7, 0.5],\n",
       "       [4.8, 3.4, 1.9, 0.2],\n",
       "       [5. , 3. , 1.6, 0.2],\n",
       "       [5. , 3.4, 1.6, 0.4],\n",
       "       [5.2, 3.5, 1.5, 0.2],\n",
       "       [5.2, 3.4, 1.4, 0.2],\n",
       "       [4.7, 3.2, 1.6, 0.2],\n",
       "       [4.8, 3.1, 1.6, 0.2],\n",
       "       [5.4, 3.4, 1.5, 0.4],\n",
       "       [5.2, 4.1, 1.5, 0.1],\n",
       "       [5.5, 4.2, 1.4, 0.2],\n",
       "       [4.9, 3.1, 1.5, 0.1],\n",
       "       [5. , 3.2, 1.2, 0.2],\n",
       "       [5.5, 3.5, 1.3, 0.2],\n",
       "       [4.9, 3.1, 1.5, 0.1],\n",
       "       [4.4, 3. , 1.3, 0.2],\n",
       "       [5.1, 3.4, 1.5, 0.2],\n",
       "       [5. , 3.5, 1.3, 0.3],\n",
       "       [4.5, 2.3, 1.3, 0.3],\n",
       "       [4.4, 3.2, 1.3, 0.2],\n",
       "       [5. , 3.5, 1.6, 0.6],\n",
       "       [5.1, 3.8, 1.9, 0.4],\n",
       "       [4.8, 3. , 1.4, 0.3],\n",
       "       [5.1, 3.8, 1.6, 0.2],\n",
       "       [4.6, 3.2, 1.4, 0.2],\n",
       "       [5.3, 3.7, 1.5, 0.2],\n",
       "       [5. , 3.3, 1.4, 0.2],\n",
       "       [7. , 3.2, 4.7, 1.4],\n",
       "       [6.4, 3.2, 4.5, 1.5],\n",
       "       [6.9, 3.1, 4.9, 1.5],\n",
       "       [5.5, 2.3, 4. , 1.3],\n",
       "       [6.5, 2.8, 4.6, 1.5],\n",
       "       [5.7, 2.8, 4.5, 1.3],\n",
       "       [6.3, 3.3, 4.7, 1.6],\n",
       "       [4.9, 2.4, 3.3, 1. ],\n",
       "       [6.6, 2.9, 4.6, 1.3],\n",
       "       [5.2, 2.7, 3.9, 1.4],\n",
       "       [5. , 2. , 3.5, 1. ],\n",
       "       [5.9, 3. , 4.2, 1.5],\n",
       "       [6. , 2.2, 4. , 1. ],\n",
       "       [6.1, 2.9, 4.7, 1.4],\n",
       "       [5.6, 2.9, 3.6, 1.3],\n",
       "       [6.7, 3.1, 4.4, 1.4],\n",
       "       [5.6, 3. , 4.5, 1.5],\n",
       "       [5.8, 2.7, 4.1, 1. ],\n",
       "       [6.2, 2.2, 4.5, 1.5],\n",
       "       [5.6, 2.5, 3.9, 1.1],\n",
       "       [5.9, 3.2, 4.8, 1.8],\n",
       "       [6.1, 2.8, 4. , 1.3],\n",
       "       [6.3, 2.5, 4.9, 1.5],\n",
       "       [6.1, 2.8, 4.7, 1.2],\n",
       "       [6.4, 2.9, 4.3, 1.3],\n",
       "       [6.6, 3. , 4.4, 1.4],\n",
       "       [6.8, 2.8, 4.8, 1.4],\n",
       "       [6.7, 3. , 5. , 1.7],\n",
       "       [6. , 2.9, 4.5, 1.5],\n",
       "       [5.7, 2.6, 3.5, 1. ],\n",
       "       [5.5, 2.4, 3.8, 1.1],\n",
       "       [5.5, 2.4, 3.7, 1. ],\n",
       "       [5.8, 2.7, 3.9, 1.2],\n",
       "       [6. , 2.7, 5.1, 1.6],\n",
       "       [5.4, 3. , 4.5, 1.5],\n",
       "       [6. , 3.4, 4.5, 1.6],\n",
       "       [6.7, 3.1, 4.7, 1.5],\n",
       "       [6.3, 2.3, 4.4, 1.3],\n",
       "       [5.6, 3. , 4.1, 1.3],\n",
       "       [5.5, 2.5, 4. , 1.3],\n",
       "       [5.5, 2.6, 4.4, 1.2],\n",
       "       [6.1, 3. , 4.6, 1.4],\n",
       "       [5.8, 2.6, 4. , 1.2],\n",
       "       [5. , 2.3, 3.3, 1. ],\n",
       "       [5.6, 2.7, 4.2, 1.3],\n",
       "       [5.7, 3. , 4.2, 1.2],\n",
       "       [5.7, 2.9, 4.2, 1.3],\n",
       "       [6.2, 2.9, 4.3, 1.3],\n",
       "       [5.1, 2.5, 3. , 1.1],\n",
       "       [5.7, 2.8, 4.1, 1.3],\n",
       "       [6.3, 3.3, 6. , 2.5],\n",
       "       [5.8, 2.7, 5.1, 1.9],\n",
       "       [7.1, 3. , 5.9, 2.1],\n",
       "       [6.3, 2.9, 5.6, 1.8],\n",
       "       [6.5, 3. , 5.8, 2.2],\n",
       "       [7.6, 3. , 6.6, 2.1],\n",
       "       [4.9, 2.5, 4.5, 1.7],\n",
       "       [7.3, 2.9, 6.3, 1.8],\n",
       "       [6.7, 2.5, 5.8, 1.8],\n",
       "       [7.2, 3.6, 6.1, 2.5],\n",
       "       [6.5, 3.2, 5.1, 2. ],\n",
       "       [6.4, 2.7, 5.3, 1.9],\n",
       "       [6.8, 3. , 5.5, 2.1],\n",
       "       [5.7, 2.5, 5. , 2. ],\n",
       "       [5.8, 2.8, 5.1, 2.4],\n",
       "       [6.4, 3.2, 5.3, 2.3],\n",
       "       [6.5, 3. , 5.5, 1.8],\n",
       "       [7.7, 3.8, 6.7, 2.2],\n",
       "       [7.7, 2.6, 6.9, 2.3],\n",
       "       [6. , 2.2, 5. , 1.5],\n",
       "       [6.9, 3.2, 5.7, 2.3],\n",
       "       [5.6, 2.8, 4.9, 2. ],\n",
       "       [7.7, 2.8, 6.7, 2. ],\n",
       "       [6.3, 2.7, 4.9, 1.8],\n",
       "       [6.7, 3.3, 5.7, 2.1],\n",
       "       [7.2, 3.2, 6. , 1.8],\n",
       "       [6.2, 2.8, 4.8, 1.8],\n",
       "       [6.1, 3. , 4.9, 1.8],\n",
       "       [6.4, 2.8, 5.6, 2.1],\n",
       "       [7.2, 3. , 5.8, 1.6],\n",
       "       [7.4, 2.8, 6.1, 1.9],\n",
       "       [7.9, 3.8, 6.4, 2. ],\n",
       "       [6.4, 2.8, 5.6, 2.2],\n",
       "       [6.3, 2.8, 5.1, 1.5],\n",
       "       [6.1, 2.6, 5.6, 1.4],\n",
       "       [7.7, 3. , 6.1, 2.3],\n",
       "       [6.3, 3.4, 5.6, 2.4],\n",
       "       [6.4, 3.1, 5.5, 1.8],\n",
       "       [6. , 3. , 4.8, 1.8],\n",
       "       [6.9, 3.1, 5.4, 2.1],\n",
       "       [6.7, 3.1, 5.6, 2.4],\n",
       "       [6.9, 3.1, 5.1, 2.3],\n",
       "       [5.8, 2.7, 5.1, 1.9],\n",
       "       [6.8, 3.2, 5.9, 2.3],\n",
       "       [6.7, 3.3, 5.7, 2.5],\n",
       "       [6.7, 3. , 5.2, 2.3],\n",
       "       [6.3, 2.5, 5. , 1.9],\n",
       "       [6.5, 3. , 5.2, 2. ],\n",
       "       [6.2, 3.4, 5.4, 2.3],\n",
       "       [5.9, 3. , 5.1, 1.8]])"
      ]
     },
     "execution_count": 8,
     "metadata": {},
     "output_type": "execute_result"
    }
   ],
   "source": [
    "iris.data"
   ]
  },
  {
   "cell_type": "markdown",
   "metadata": {},
   "source": [
    "<img src='https://goo.gl/tTbZMq'>\n",
    "Sepal Length, Sepal Width, Petal Length, Petal Width"
   ]
  },
  {
   "cell_type": "code",
   "execution_count": 11,
   "metadata": {},
   "outputs": [
    {
     "data": {
      "text/plain": [
       "array([0, 0, 0, 0, 0, 0, 0, 0, 0, 0, 0, 0, 0, 0, 0, 0, 0, 0, 0, 0, 0, 0,\n",
       "       0, 0, 0, 0, 0, 0, 0, 0, 0, 0, 0, 0, 0, 0, 0, 0, 0, 0, 0, 0, 0, 0,\n",
       "       0, 0, 0, 0, 0, 0, 1, 1, 1, 1, 1, 1, 1, 1, 1, 1, 1, 1, 1, 1, 1, 1,\n",
       "       1, 1, 1, 1, 1, 1, 1, 1, 1, 1, 1, 1, 1, 1, 1, 1, 1, 1, 1, 1, 1, 1,\n",
       "       1, 1, 1, 1, 1, 1, 1, 1, 1, 1, 1, 1, 2, 2, 2, 2, 2, 2, 2, 2, 2, 2,\n",
       "       2, 2, 2, 2, 2, 2, 2, 2, 2, 2, 2, 2, 2, 2, 2, 2, 2, 2, 2, 2, 2, 2,\n",
       "       2, 2, 2, 2, 2, 2, 2, 2, 2, 2, 2, 2, 2, 2, 2, 2, 2, 2])"
      ]
     },
     "execution_count": 11,
     "metadata": {},
     "output_type": "execute_result"
    }
   ],
   "source": [
    "iris.target"
   ]
  },
  {
   "cell_type": "markdown",
   "metadata": {},
   "source": [
    "0 = I.setosa <br>\n",
    "1 = I.versicolor <br>\n",
    "2 = I.Virginica"
   ]
  },
  {
   "cell_type": "code",
   "execution_count": 10,
   "metadata": {},
   "outputs": [],
   "source": [
    "X = iris.data[:, :2]  # we only take the first two features(sepal width and sepal length).\n",
    "y = iris.target\n",
    "\n",
    "x_min, x_max = X[:, 0].min() - .5, X[:, 0].max() + .5\n",
    "y_min, y_max = X[:, 1].min() - .5, X[:, 1].max() + .5\n"
   ]
  },
  {
   "cell_type": "code",
   "execution_count": 12,
   "metadata": {},
   "outputs": [
    {
     "data": {
      "text/plain": [
       "array([0, 0, 0, 0, 0, 0, 0, 0, 0, 0, 0, 0, 0, 0, 0, 0, 0, 0, 0, 0, 0, 0,\n",
       "       0, 0, 0, 0, 0, 0, 0, 0, 0, 0, 0, 0, 0, 0, 0, 0, 0, 0, 0, 0, 0, 0,\n",
       "       0, 0, 0, 0, 0, 0, 1, 1, 1, 1, 1, 1, 1, 1, 1, 1, 1, 1, 1, 1, 1, 1,\n",
       "       1, 1, 1, 1, 1, 1, 1, 1, 1, 1, 1, 1, 1, 1, 1, 1, 1, 1, 1, 1, 1, 1,\n",
       "       1, 1, 1, 1, 1, 1, 1, 1, 1, 1, 1, 1, 2, 2, 2, 2, 2, 2, 2, 2, 2, 2,\n",
       "       2, 2, 2, 2, 2, 2, 2, 2, 2, 2, 2, 2, 2, 2, 2, 2, 2, 2, 2, 2, 2, 2,\n",
       "       2, 2, 2, 2, 2, 2, 2, 2, 2, 2, 2, 2, 2, 2, 2, 2, 2, 2])"
      ]
     },
     "execution_count": 12,
     "metadata": {},
     "output_type": "execute_result"
    }
   ],
   "source": [
    "y"
   ]
  },
  {
   "cell_type": "code",
   "execution_count": 13,
   "metadata": {},
   "outputs": [
    {
     "data": {
      "text/plain": [
       "(1.5, 4.9)"
      ]
     },
     "execution_count": 13,
     "metadata": {},
     "output_type": "execute_result"
    },
    {
     "data": {
      "image/png": "[encoded data removed]",
      "text/plain": [
       "<Figure size 576x432 with 1 Axes>"
      ]
     },
     "metadata": {},
     "output_type": "display_data"
    }
   ],
   "source": [
    "plt.figure(2, figsize=(8, 6))\n",
    "plt.clf()\n",
    "\n",
    "# Plot the training points\n",
    "plt.scatter(X[:, 0], X[:, 1], c=y, cmap=plt.cm.Set1,\n",
    "            edgecolor='k')\n",
    "plt.xlabel('Sepal length(cm)')\n",
    "plt.ylabel('Sepal width(cm)')\n",
    "\n",
    "plt.xlim(x_min, x_max)\n",
    "plt.ylim(y_min, y_max)\n",
    "# plt.xticks(())\n",
    "# plt.yticks(())"
   ]
  },
  {
   "cell_type": "code",
   "execution_count": 14,
   "metadata": {},
   "outputs": [],
   "source": [
    "# plot the first three PCA dimensions\n",
    "# fig = plt.figure(1, figsize=(8, 6))\n",
    "# ax = Axes3D(fig, elev=-150, azim=110)\n",
    "# X_reduced = PCA(n_components=3).fit_transform(iris.data)\n",
    "# ax.scatter(X_reduced[:, 0], X_reduced[:, 1], X_reduced[:, 2], c=y,\n",
    "#            cmap=plt.cm.Set1, edgecolor='k', s=40)\n",
    "# ax.set_title(\"First three PCA directions\")\n",
    "# ax.set_xlabel(\"1st eigenvector\")\n",
    "# ax.w_xaxis.set_ticklabels([])\n",
    "# ax.set_ylabel(\"2nd eigenvector\")\n",
    "# ax.w_yaxis.set_ticklabels([])\n",
    "# ax.set_zlabel(\"3rd eigenvector\")\n",
    "# ax.w_zaxis.set_ticklabels([])"
   ]
  },
  {
   "cell_type": "code",
   "execution_count": 15,
   "metadata": {},
   "outputs": [
    {
     "data": {
      "text/plain": [
       "(150, 4)"
      ]
     },
     "execution_count": 15,
     "metadata": {},
     "output_type": "execute_result"
    }
   ],
   "source": [
    "iris.data.shape"
   ]
  },
  {
   "cell_type": "code",
   "execution_count": 16,
   "metadata": {},
   "outputs": [
    {
     "data": {
      "text/plain": [
       "(150,)"
      ]
     },
     "execution_count": 16,
     "metadata": {},
     "output_type": "execute_result"
    }
   ],
   "source": [
    "iris.target.shape"
   ]
  },
  {
   "cell_type": "code",
   "execution_count": 21,
   "metadata": {},
   "outputs": [],
   "source": [
    "x_train, x_test, y_train, y_test = train_test_split(X,y, test_size= 0.4, random_state=1)\n"
   ]
  },
  {
   "cell_type": "code",
   "execution_count": 22,
   "metadata": {},
   "outputs": [
    {
     "data": {
      "text/plain": [
       "(90, 2)"
      ]
     },
     "execution_count": 22,
     "metadata": {},
     "output_type": "execute_result"
    }
   ],
   "source": [
    "x_train.shape"
   ]
  },
  {
   "cell_type": "code",
   "execution_count": 19,
   "metadata": {},
   "outputs": [
    {
     "data": {
      "text/plain": [
       "(120,)"
      ]
     },
     "execution_count": 19,
     "metadata": {},
     "output_type": "execute_result"
    }
   ],
   "source": [
    "y_train.shape"
   ]
  },
  {
   "cell_type": "code",
   "execution_count": 23,
   "metadata": {},
   "outputs": [
    {
     "data": {
      "text/plain": [
       "(60, 2)"
      ]
     },
     "execution_count": 23,
     "metadata": {},
     "output_type": "execute_result"
    }
   ],
   "source": [
    "x_test.shape"
   ]
  },
  {
   "cell_type": "code",
   "execution_count": 40,
   "metadata": {},
   "outputs": [
    {
     "data": {
      "text/plain": [
       "(60,)"
      ]
     },
     "execution_count": 40,
     "metadata": {},
     "output_type": "execute_result"
    }
   ],
   "source": [
    "y_test.shape"
   ]
  },
  {
   "cell_type": "code",
   "execution_count": 34,
   "metadata": {},
   "outputs": [],
   "source": [
    "clf = MLPClassifier(hidden_layer_sizes=(100,100,100),  max_iter=1000, alpha=0.0001,activation='relu',\n",
    "                     solver='adam', verbose=10,  random_state=21,tol=0.000000001)"
   ]
  },
  {
   "cell_type": "code",
   "execution_count": 35,
   "metadata": {},
   "outputs": [
    {
     "name": "stdout",
     "output_type": "stream",
     "text": [
      "Iteration 1, loss = 1.11661397\n",
      "Iteration 2, loss = 1.09745591\n",
      "Iteration 3, loss = 1.08550430\n",
      "Iteration 4, loss = 1.07203965\n",
      "Iteration 5, loss = 1.05897954\n",
      "Iteration 6, loss = 1.04618171\n",
      "Iteration 7, loss = 1.03447621\n",
      "Iteration 8, loss = 1.02243110\n",
      "Iteration 9, loss = 1.00971456\n",
      "Iteration 10, loss = 0.99628858\n",
      "Iteration 11, loss = 0.98254313\n",
      "Iteration 12, loss = 0.96832501\n",
      "Iteration 13, loss = 0.95346956\n",
      "Iteration 14, loss = 0.93783173\n",
      "Iteration 15, loss = 0.92195933\n",
      "Iteration 16, loss = 0.90580875\n",
      "Iteration 17, loss = 0.88979315\n",
      "Iteration 18, loss = 0.87366502\n",
      "Iteration 19, loss = 0.85685826\n",
      "Iteration 20, loss = 0.83908466\n",
      "Iteration 21, loss = 0.82106423\n",
      "Iteration 22, loss = 0.80333873\n",
      "Iteration 23, loss = 0.78529390\n",
      "Iteration 24, loss = 0.76698547\n",
      "Iteration 25, loss = 0.74845461\n",
      "Iteration 26, loss = 0.73016331\n",
      "Iteration 27, loss = 0.71244142\n",
      "Iteration 28, loss = 0.69528864\n",
      "Iteration 29, loss = 0.67857506\n",
      "Iteration 30, loss = 0.66248224\n",
      "Iteration 31, loss = 0.64705656\n",
      "Iteration 32, loss = 0.63223611\n",
      "Iteration 33, loss = 0.61814903\n",
      "Iteration 34, loss = 0.60481927\n",
      "Iteration 35, loss = 0.59222645\n",
      "Iteration 36, loss = 0.58031584\n",
      "Iteration 37, loss = 0.56900350\n",
      "Iteration 38, loss = 0.55851252\n",
      "Iteration 39, loss = 0.54913422\n",
      "Iteration 40, loss = 0.54086606\n",
      "Iteration 41, loss = 0.53329889\n",
      "Iteration 42, loss = 0.52655223\n",
      "Iteration 43, loss = 0.52050828\n",
      "Iteration 44, loss = 0.51483582\n",
      "Iteration 45, loss = 0.50972815\n",
      "Iteration 46, loss = 0.50506405\n",
      "Iteration 47, loss = 0.50092508\n",
      "Iteration 48, loss = 0.49703613\n",
      "Iteration 49, loss = 0.49349309\n",
      "Iteration 50, loss = 0.49032268\n",
      "Iteration 51, loss = 0.48758778\n",
      "Iteration 52, loss = 0.48500996\n",
      "Iteration 53, loss = 0.48256792\n",
      "Iteration 54, loss = 0.48023702\n",
      "Iteration 55, loss = 0.47815621\n",
      "Iteration 56, loss = 0.47621934\n",
      "Iteration 57, loss = 0.47431869\n",
      "Iteration 58, loss = 0.47259398\n",
      "Iteration 59, loss = 0.47097079\n",
      "Iteration 60, loss = 0.46946036\n",
      "Iteration 61, loss = 0.46802378\n",
      "Iteration 62, loss = 0.46660077\n",
      "Iteration 63, loss = 0.46523960\n",
      "Iteration 64, loss = 0.46398096\n",
      "Iteration 65, loss = 0.46272524\n",
      "Iteration 66, loss = 0.46148242\n",
      "Iteration 67, loss = 0.46024670\n",
      "Iteration 68, loss = 0.45895374\n",
      "Iteration 69, loss = 0.45775647\n",
      "Iteration 70, loss = 0.45649837\n",
      "Iteration 71, loss = 0.45529821\n",
      "Iteration 72, loss = 0.45412815\n",
      "Iteration 73, loss = 0.45294984\n",
      "Iteration 74, loss = 0.45183069\n",
      "Iteration 75, loss = 0.45066015\n",
      "Iteration 76, loss = 0.44946210\n",
      "Iteration 77, loss = 0.44834643\n",
      "Iteration 78, loss = 0.44714324\n",
      "Iteration 79, loss = 0.44597123\n",
      "Iteration 80, loss = 0.44478755\n",
      "Iteration 81, loss = 0.44360698\n",
      "Iteration 82, loss = 0.44243121\n",
      "Iteration 83, loss = 0.44123178\n",
      "Iteration 84, loss = 0.44001042\n",
      "Iteration 85, loss = 0.43881718\n",
      "Iteration 86, loss = 0.43762101\n",
      "Iteration 87, loss = 0.43634432\n",
      "Iteration 88, loss = 0.43516745\n",
      "Iteration 89, loss = 0.43396317\n",
      "Iteration 90, loss = 0.43271884\n",
      "Iteration 91, loss = 0.43150936\n",
      "Iteration 92, loss = 0.43028900\n",
      "Iteration 93, loss = 0.42908488\n",
      "Iteration 94, loss = 0.42789932\n",
      "Iteration 95, loss = 0.42671927\n",
      "Iteration 96, loss = 0.42571396\n",
      "Iteration 97, loss = 0.42468758\n",
      "Iteration 98, loss = 0.42374720\n",
      "Iteration 99, loss = 0.42286651\n",
      "Iteration 100, loss = 0.42172816\n",
      "Iteration 101, loss = 0.42037031\n",
      "Iteration 102, loss = 0.41911620\n",
      "Iteration 103, loss = 0.41829418\n",
      "Iteration 104, loss = 0.41768660\n",
      "Iteration 105, loss = 0.41707313\n",
      "Iteration 106, loss = 0.41635131\n",
      "Iteration 107, loss = 0.41517982\n",
      "Iteration 108, loss = 0.41383731\n",
      "Iteration 109, loss = 0.41308359\n",
      "Iteration 110, loss = 0.41273463\n",
      "Iteration 111, loss = 0.41224624\n",
      "Iteration 112, loss = 0.41123465\n",
      "Iteration 113, loss = 0.41001654\n",
      "Iteration 114, loss = 0.40939464\n",
      "Iteration 115, loss = 0.40911778\n",
      "Iteration 116, loss = 0.40845785\n",
      "Iteration 117, loss = 0.40779683\n",
      "Iteration 118, loss = 0.40686892\n",
      "Iteration 119, loss = 0.40613274\n",
      "Iteration 120, loss = 0.40584526\n",
      "Iteration 121, loss = 0.40547244\n",
      "Iteration 122, loss = 0.40482253\n",
      "Iteration 123, loss = 0.40415203\n",
      "Iteration 124, loss = 0.40352165\n",
      "Iteration 125, loss = 0.40302351\n",
      "Iteration 126, loss = 0.40264284\n",
      "Iteration 127, loss = 0.40238258\n",
      "Iteration 128, loss = 0.40224397\n",
      "Iteration 129, loss = 0.40224395\n",
      "Iteration 130, loss = 0.40190675\n",
      "Iteration 131, loss = 0.40115532\n",
      "Iteration 132, loss = 0.40009779\n",
      "Iteration 133, loss = 0.39934588\n",
      "Iteration 134, loss = 0.39924386\n",
      "Iteration 135, loss = 0.39927041\n",
      "Iteration 136, loss = 0.39887422\n",
      "Iteration 137, loss = 0.39808717\n",
      "Iteration 138, loss = 0.39749627\n",
      "Iteration 139, loss = 0.39737423\n",
      "Iteration 140, loss = 0.39730807\n",
      "Iteration 141, loss = 0.39685298\n",
      "Iteration 142, loss = 0.39627721\n",
      "Iteration 143, loss = 0.39582973\n",
      "Iteration 144, loss = 0.39565148\n",
      "Iteration 145, loss = 0.39550099\n",
      "Iteration 146, loss = 0.39523464\n",
      "Iteration 147, loss = 0.39481667\n",
      "Iteration 148, loss = 0.39431959\n",
      "Iteration 149, loss = 0.39404056\n",
      "Iteration 150, loss = 0.39381085\n",
      "Iteration 151, loss = 0.39361295\n",
      "Iteration 152, loss = 0.39331344\n",
      "Iteration 153, loss = 0.39305321\n",
      "Iteration 154, loss = 0.39267550\n",
      "Iteration 155, loss = 0.39242424\n",
      "Iteration 156, loss = 0.39217806\n",
      "Iteration 157, loss = 0.39194351\n",
      "Iteration 158, loss = 0.39177838\n",
      "Iteration 159, loss = 0.39170661\n",
      "Iteration 160, loss = 0.39155482\n",
      "Iteration 161, loss = 0.39135842\n",
      "Iteration 162, loss = 0.39097831\n",
      "Iteration 163, loss = 0.39047573\n",
      "Iteration 164, loss = 0.39010119\n",
      "Iteration 165, loss = 0.38989268\n",
      "Iteration 166, loss = 0.38975500\n",
      "Iteration 167, loss = 0.38959656\n",
      "Iteration 168, loss = 0.38933966\n",
      "Iteration 169, loss = 0.38902379\n",
      "Iteration 170, loss = 0.38875527\n",
      "Iteration 171, loss = 0.38848586\n",
      "Iteration 172, loss = 0.38824742\n",
      "Iteration 173, loss = 0.38810069\n",
      "Iteration 174, loss = 0.38806358\n",
      "Iteration 175, loss = 0.38796137\n",
      "Iteration 176, loss = 0.38782406\n",
      "Iteration 177, loss = 0.38749600\n",
      "Iteration 178, loss = 0.38716930\n",
      "Iteration 179, loss = 0.38687978\n",
      "Iteration 180, loss = 0.38661048\n",
      "Iteration 181, loss = 0.38638730\n",
      "Iteration 182, loss = 0.38623423\n",
      "Iteration 183, loss = 0.38613809\n",
      "Iteration 184, loss = 0.38601888\n",
      "Iteration 185, loss = 0.38588696\n",
      "Iteration 186, loss = 0.38580584\n",
      "Iteration 187, loss = 0.38578809\n",
      "Iteration 188, loss = 0.38567379\n",
      "Iteration 189, loss = 0.38535743\n",
      "Iteration 190, loss = 0.38491854\n",
      "Iteration 191, loss = 0.38447866\n",
      "Iteration 192, loss = 0.38416219\n",
      "Iteration 193, loss = 0.38399894\n",
      "Iteration 194, loss = 0.38400459\n",
      "Iteration 195, loss = 0.38409598\n",
      "Iteration 196, loss = 0.38426471\n",
      "Training loss did not improve more than tol=0.000000 for two consecutive epochs. Stopping.\n"
     ]
    }
   ],
   "source": [
    "clf.fit(x_train, y_train)\n",
    "y_pred = clf.predict(x_test)"
   ]
  },
  {
   "cell_type": "code",
   "execution_count": 36,
   "metadata": {},
   "outputs": [],
   "source": [
    "loss_values = clf.loss_curve_\n"
   ]
  },
  {
   "cell_type": "code",
   "execution_count": 37,
   "metadata": {},
   "outputs": [
    {
     "data": {
      "text/plain": [
       "[<matplotlib.lines.Line2D at 0x115abfbe0>]"
      ]
     },
     "execution_count": 37,
     "metadata": {},
     "output_type": "execute_result"
    },
    {
     "data": {
      "image/png": "[encoded data removed]",
      "text/plain": [
       "<Figure size 432x288 with 1 Axes>"
      ]
     },
     "metadata": {},
     "output_type": "display_data"
    }
   ],
   "source": [
    "plt.plot(loss_values)\n"
   ]
  },
  {
   "cell_type": "code",
   "execution_count": 38,
   "metadata": {},
   "outputs": [
    {
     "data": {
      "text/plain": [
       "0.73"
      ]
     },
     "execution_count": 38,
     "metadata": {},
     "output_type": "execute_result"
    }
   ],
   "source": [
    "round(accuracy_score(y_test, y_pred),2)\n"
   ]
  },
  {
   "cell_type": "code",
   "execution_count": 41,
   "metadata": {},
   "outputs": [
    {
     "data": {
      "text/plain": [
       "array([[19,  0,  0],\n",
       "       [ 1, 10, 10],\n",
       "       [ 0,  5, 15]])"
      ]
     },
     "execution_count": 41,
     "metadata": {},
     "output_type": "execute_result"
    }
   ],
   "source": [
    "cm = confusion_matrix(y_test, y_pred)\n",
    "cm"
   ]
  },
  {
   "cell_type": "code",
   "execution_count": 42,
   "metadata": {},
   "outputs": [
    {
     "data": {
      "image/png": "[encoded data removed]",
      "text/plain": [
       "<Figure size 432x288 with 2 Axes>"
      ]
     },
     "metadata": {},
     "output_type": "display_data"
    }
   ],
   "source": [
    "sns.heatmap(cm, center=True,annot=True)\n",
    "plt.show()"
   ]
  },
  {
   "cell_type": "code",
   "execution_count": 44,
   "metadata": {},
   "outputs": [
    {
     "data": {
      "text/plain": [
       "array([0])"
      ]
     },
     "execution_count": 44,
     "metadata": {},
     "output_type": "execute_result"
    }
   ],
   "source": [
    "data_baru = [[0.5, 4.3]]\n",
    "clf.predict(data_baru)"
   ]
  },
  {
   "cell_type": "code",
   "execution_count": null,
   "metadata": {},
   "outputs": [],
   "source": []
  }
 ],
 "metadata": {
  "kernelspec": {
   "display_name": "Python 3",
   "language": "python",
   "name": "python3"
  },
  "language_info": {
   "codemirror_mode": {
    "name": "ipython",
    "version": 3
   },
   "file_extension": ".py",
   "mimetype": "text/x-python",
   "name": "python",
   "nbconvert_exporter": "python",
   "pygments_lexer": "ipython3",
   "version": "3.6.5"
  }
 },
 "nbformat": 4,
 "nbformat_minor": 2
}
