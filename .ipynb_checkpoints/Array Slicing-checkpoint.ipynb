{
 "cells": [
  {
   "cell_type": "code",
   "execution_count": 1,
   "metadata": {},
   "outputs": [],
   "source": [
    "import numpy as np\n",
    "import sys"
   ]
  },
  {
   "cell_type": "code",
   "execution_count": 6,
   "metadata": {},
   "outputs": [
    {
     "name": "stdout",
     "output_type": "stream",
     "text": [
      "[1 2 3 4]\n"
     ]
    },
    {
     "data": {
      "text/plain": [
       "array([ 3,  6,  9, 12])"
      ]
     },
     "execution_count": 6,
     "metadata": {},
     "output_type": "execute_result"
    }
   ],
   "source": [
    "y = [1, 2, 3, 5]\n",
    "y * 3\n",
    "\n",
    "x = np.array([1,2,3,4]);\n",
    "print(x)\n",
    "\n",
    "x*3"
   ]
  },
  {
   "cell_type": "markdown",
   "metadata": {},
   "source": [
    "## Array"
   ]
  },
  {
   "cell_type": "code",
   "execution_count": 9,
   "metadata": {},
   "outputs": [
    {
     "name": "stdout",
     "output_type": "stream",
     "text": [
      "[[3 4 5]\n",
      " [1 2 3]\n",
      " [9 8 7]]\n",
      "===============================\n",
      "LIST:  [[4, 4, 4], [3, 3, 3], [7, 7, 7]]\n",
      "ARRAY: \n",
      " [[4 4 4]\n",
      " [3 3 3]\n",
      " [7 7 7]]\n"
     ]
    }
   ],
   "source": [
    "x = np.array([[3,4,5],[1,2,3],[9,8,7]])\n",
    "print(x)\n",
    "print('===============================')\n",
    "y = [[4,4,4],[3,3,3],[7,7,7]]\n",
    "print('LIST: ',y)\n",
    "y = np.array(y)\n",
    "print('ARRAY: \\n', y)"
   ]
  },
  {
   "cell_type": "code",
   "execution_count": 8,
   "metadata": {},
   "outputs": [
    {
     "name": "stdout",
     "output_type": "stream",
     "text": [
      "[[ 7  8  9]\n",
      " [ 4  5  6]\n",
      " [16 15 14]]\n"
     ]
    }
   ],
   "source": [
    "z = x + y\n",
    "print(z)"
   ]
  },
  {
   "cell_type": "code",
   "execution_count": 18,
   "metadata": {},
   "outputs": [
    {
     "name": "stdout",
     "output_type": "stream",
     "text": [
      "error! <class 'ValueError'>\n"
     ]
    }
   ],
   "source": [
    "a = np.array([[1,2,3,4], [1,2,3,4]])\n",
    "b = np.array([[1,2,3], [1,2,3]])\n",
    "try:\n",
    "    c = a + b\n",
    "    print(c)\n",
    "except:\n",
    "    print(\"error!\",sys.exc_info()[0],)\n"
   ]
  },
  {
   "cell_type": "markdown",
   "metadata": {},
   "source": [
    "## Slicing Array"
   ]
  },
  {
   "cell_type": "code",
   "execution_count": 10,
   "metadata": {},
   "outputs": [
    {
     "data": {
      "text/plain": [
       "array([10, 11, 12, 13, 14, 15, 16, 17, 18])"
      ]
     },
     "execution_count": 10,
     "metadata": {},
     "output_type": "execute_result"
    }
   ],
   "source": [
    "x = np.arange(10,19)\n",
    "x"
   ]
  },
  {
   "cell_type": "code",
   "execution_count": 33,
   "metadata": {},
   "outputs": [
    {
     "name": "stdout",
     "output_type": "stream",
     "text": [
      "10\n",
      "11\n",
      "12\n",
      "13\n",
      "14\n",
      "15\n",
      "16\n",
      "17\n",
      "18\n"
     ]
    }
   ],
   "source": [
    "for i in range(9):\n",
    "    print(x[i])"
   ]
  },
  {
   "cell_type": "code",
   "execution_count": 11,
   "metadata": {},
   "outputs": [
    {
     "name": "stdout",
     "output_type": "stream",
     "text": [
      "10\n",
      "11\n",
      "12\n",
      "13\n",
      "14\n",
      "15\n",
      "16\n",
      "17\n",
      "18\n"
     ]
    }
   ],
   "source": [
    "for i in x:\n",
    "    print(i)"
   ]
  },
  {
   "cell_type": "code",
   "execution_count": 12,
   "metadata": {},
   "outputs": [
    {
     "name": "stdout",
     "output_type": "stream",
     "text": [
      "14\n",
      "15\n",
      "16\n",
      "17\n"
     ]
    }
   ],
   "source": [
    "for i in range(9):\n",
    "    if i>=4 and i<8 : \n",
    "        print(x[i])"
   ]
  },
  {
   "cell_type": "code",
   "execution_count": 35,
   "metadata": {},
   "outputs": [
    {
     "name": "stdout",
     "output_type": "stream",
     "text": [
      "[14 15 16 17]\n"
     ]
    }
   ],
   "source": [
    "print(x[])"
   ]
  },
  {
   "cell_type": "code",
   "execution_count": 21,
   "metadata": {},
   "outputs": [
    {
     "name": "stdout",
     "output_type": "stream",
     "text": [
      "[[ 3.2  4.2  5.2  6.2  7.2]\n",
      " [ 8.2  9.2 10.2 11.2 12.2]\n",
      " [13.2 14.2 15.2 16.2 17.2]]\n"
     ]
    }
   ],
   "source": [
    "x = np.arange(15).reshape(3,5)\n",
    "x  = x + 3.2\n",
    "print(x)"
   ]
  },
  {
   "cell_type": "code",
   "execution_count": 22,
   "metadata": {},
   "outputs": [
    {
     "name": "stdout",
     "output_type": "stream",
     "text": [
      "data:  3.2\n",
      "data:  4.2\n",
      "data:  5.2\n",
      "data:  6.2\n",
      "data:  7.2\n",
      "data:  8.2\n",
      "data:  9.2\n",
      "data:  10.2\n",
      "data:  11.2\n",
      "data:  12.2\n",
      "data:  13.2\n",
      "data:  14.2\n",
      "data:  15.2\n",
      "data:  16.2\n",
      "data:  17.2\n"
     ]
    }
   ],
   "source": [
    "# get value from matrix x\n",
    "for i in range (3):\n",
    "    for j in range (5):\n",
    "        print('data: ', x[i][j])\n",
    "    "
   ]
  },
  {
   "cell_type": "code",
   "execution_count": 27,
   "metadata": {},
   "outputs": [
    {
     "name": "stdout",
     "output_type": "stream",
     "text": [
      "data:  10.2\n",
      "data:  11.2\n",
      "data:  15.2\n",
      "data:  16.2\n"
     ]
    }
   ],
   "source": [
    "for i in range (3):\n",
    "    for j in range (5):\n",
    "        if (i>=1) and ((j>=2) and(j<4)): \n",
    "            print('data: ', x[i][j])"
   ]
  },
  {
   "cell_type": "code",
   "execution_count": 28,
   "metadata": {},
   "outputs": [
    {
     "data": {
      "text/plain": [
       "array([[10.2, 11.2],\n",
       "       [15.2, 16.2]])"
      ]
     },
     "execution_count": 28,
     "metadata": {},
     "output_type": "execute_result"
    }
   ],
   "source": [
    "x[1:,2:4]"
   ]
  },
  {
   "cell_type": "code",
   "execution_count": 41,
   "metadata": {},
   "outputs": [
    {
     "data": {
      "text/plain": [
       "array([[[ 0,  1,  2],\n",
       "        [ 3,  4,  5],\n",
       "        [ 6,  7,  8]],\n",
       "\n",
       "       [[ 9, 10, 11],\n",
       "        [12, 13, 14],\n",
       "        [15, 16, 17]],\n",
       "\n",
       "       [[18, 19, 20],\n",
       "        [21, 22, 23],\n",
       "        [24, 25, 26]]])"
      ]
     },
     "execution_count": 41,
     "metadata": {},
     "output_type": "execute_result"
    }
   ],
   "source": [
    "#Array 3 dimension\n",
    "\n",
    "x_3D = np.arange(27).reshape(3,3,3)\n",
    "x_3D"
   ]
  },
  {
   "cell_type": "code",
   "execution_count": 44,
   "metadata": {},
   "outputs": [
    {
     "name": "stdout",
     "output_type": "stream",
     "text": [
      "[[[ 4  5]\n",
      "  [ 7  8]]\n",
      "\n",
      " [[13 14]\n",
      "  [16 17]]\n",
      "\n",
      " [[22 23]\n",
      "  [25 26]]]\n"
     ]
    }
   ],
   "source": [
    "print(x_3D[:,1:,1:])"
   ]
  }
 ],
 "metadata": {
  "kernelspec": {
   "display_name": "Python 3",
   "language": "python",
   "name": "python3"
  },
  "language_info": {
   "codemirror_mode": {
    "name": "ipython",
    "version": 3
   },
   "file_extension": ".py",
   "mimetype": "text/x-python",
   "name": "python",
   "nbconvert_exporter": "python",
   "pygments_lexer": "ipython3",
   "version": "3.6.5"
  }
 },
 "nbformat": 4,
 "nbformat_minor": 2
}
