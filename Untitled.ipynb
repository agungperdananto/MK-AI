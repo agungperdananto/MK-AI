{
 "cells": [
  {
   "cell_type": "code",
   "execution_count": 46,
   "metadata": {},
   "outputs": [],
   "source": [
    "x1 = [0,0,1,1]\n",
    "x2 = [0,1,0,1]\n",
    "y_target = [-1,1,1,1]\n",
    "ø = 0.5\n",
    "learning_rate = 1\n",
    "data = len(x1)\n",
    "w1, w2, b = 0,0,0\n",
    "\n",
    "epochs = 6"
   ]
  },
  {
   "cell_type": "code",
   "execution_count": 24,
   "metadata": {},
   "outputs": [
    {
     "name": "stdout",
     "output_type": "stream",
     "text": [
      "4\n"
     ]
    }
   ],
   "source": [
    "print(data)"
   ]
  },
  {
   "cell_type": "code",
   "execution_count": 47,
   "metadata": {},
   "outputs": [
    {
     "name": "stdout",
     "output_type": "stream",
     "text": [
      "epochs- 1 :  [0, -1, 0, 1]\n",
      "epochs- 2 :  [1, 1, 1, 1]\n",
      "epochs- 3 :  [0, 0, 1, 1]\n",
      "epochs- 4 :  [0, 1, 0, 1]\n",
      "epochs- 5 :  [0, 1, 1, 1]\n",
      "epochs- 6 :  [-1, 1, 1, 1]\n"
     ]
    }
   ],
   "source": [
    "for i in range(epochs):\n",
    "    y_pred = []\n",
    "    for j in range(data):\n",
    "#         penjumlahan\n",
    "        net = b +(x1[j]*w1 + x2[j]*w2)\n",
    "#         print(net)      \n",
    "        #Aktivasi\n",
    "        if net < -ø:\n",
    "            y_ = -1\n",
    "        elif net > ø:\n",
    "            y_ = 1\n",
    "        else:\n",
    "            y_ = 0\n",
    "        \n",
    "        if y_!= y_target[j]:\n",
    "            w1 = w1 + learning_rate * y_target[j] * x1[j]\n",
    "            w2 = w2 + learning_rate * y_target[j]* x2[j]\n",
    "            b = b + learning_rate*y_target[j]\n",
    "        y_pred.append(y_)\n",
    "    print('epochs-',i+1,': ',y_pred)\n",
    "            "
   ]
  },
  {
   "cell_type": "code",
   "execution_count": 48,
   "metadata": {},
   "outputs": [
    {
     "name": "stdout",
     "output_type": "stream",
     "text": [
      "-1 2 2\n"
     ]
    }
   ],
   "source": [
    "print(b, w1, w2)"
   ]
  },
  {
   "cell_type": "code",
   "execution_count": 49,
   "metadata": {},
   "outputs": [
    {
     "name": "stdout",
     "output_type": "stream",
     "text": [
      "[1, 2, 3, 40, 5, 6, 7, 8, 9, 100, 203]\n"
     ]
    }
   ],
   "source": [
    "x = [1,2,3,40,5,6,7,8,9,100,203]\n",
    "\n",
    "print(x)"
   ]
  },
  {
   "cell_type": "code",
   "execution_count": 60,
   "metadata": {},
   "outputs": [
    {
     "name": "stdout",
     "output_type": "stream",
     "text": [
      "[40, 5, 6, 7, 8, 9]\n"
     ]
    }
   ],
   "source": [
    "print(x[3:9])"
   ]
  },
  {
   "cell_type": "code",
   "execution_count": 50,
   "metadata": {},
   "outputs": [
    {
     "name": "stdout",
     "output_type": "stream",
     "text": [
      "[203, 100, 9, 8, 7, 6, 5, 40, 3, 2, 1]\n"
     ]
    }
   ],
   "source": [
    "print(x[::-1])"
   ]
  },
  {
   "cell_type": "code",
   "execution_count": 52,
   "metadata": {},
   "outputs": [],
   "source": [
    "\n",
    "def mean(x):\n",
    "    mean_value = 0\n",
    "    for i in x:\n",
    "        mean_value += i\n",
    "    mean_value  = mean_value/len(x)\n",
    "    return mean_value"
   ]
  },
  {
   "cell_type": "code",
   "execution_count": 55,
   "metadata": {},
   "outputs": [
    {
     "name": "stdout",
     "output_type": "stream",
     "text": [
      "mean:  34.91\n"
     ]
    }
   ],
   "source": [
    "mean_value =  mean(x)\n",
    "print('mean: ',round(mean_value,2))"
   ]
  },
  {
   "cell_type": "code",
   "execution_count": 57,
   "metadata": {},
   "outputs": [
    {
     "name": "stdout",
     "output_type": "stream",
     "text": [
      "mean:  34.91\n"
     ]
    }
   ],
   "source": [
    "import numpy as np\n",
    "print('mean: ',round(np.mean(x),2))"
   ]
  },
  {
   "cell_type": "code",
   "execution_count": 58,
   "metadata": {},
   "outputs": [
    {
     "name": "stdout",
     "output_type": "stream",
     "text": [
      "median:  7.0\n"
     ]
    }
   ],
   "source": [
    "print('median: ',round(np.median(x),2))"
   ]
  }
 ],
 "metadata": {
  "kernelspec": {
   "display_name": "Python 3",
   "language": "python",
   "name": "python3"
  },
  "language_info": {
   "codemirror_mode": {
    "name": "ipython",
    "version": 3
   },
   "file_extension": ".py",
   "mimetype": "text/x-python",
   "name": "python",
   "nbconvert_exporter": "python",
   "pygments_lexer": "ipython3",
   "version": "3.6.5"
  }
 },
 "nbformat": 4,
 "nbformat_minor": 2
}
